{
  "nbformat": 4,
  "nbformat_minor": 0,
  "metadata": {
    "colab": {
      "name": "Dictionary Learning.ipynb",
      "provenance": [],
      "authorship_tag": "ABX9TyM7KmYnV6P3CM7NfetbALaX",
      "include_colab_link": true
    },
    "kernelspec": {
      "name": "python3",
      "display_name": "Python 3"
    }
  },
  "cells": [
    {
      "cell_type": "markdown",
      "metadata": {
        "id": "view-in-github",
        "colab_type": "text"
      },
      "source": [
        "<a href=\"https://colab.research.google.com/github/Mittra19/K-SVD/blob/main/Dictionary_Learning.ipynb\" target=\"_parent\"><img src=\"https://colab.research.google.com/assets/colab-badge.svg\" alt=\"Open In Colab\"/></a>"
      ]
    },
    {
      "cell_type": "code",
      "metadata": {
        "id": "n460CTTTEiGX"
      },
      "source": [
        "import numpy as np\n",
        "from sklearn.preprocessing import normalize\n",
        "from sklearn.linear_model import OrthogonalMatchingPursuit"
      ],
      "execution_count": 1,
      "outputs": []
    },
    {
      "cell_type": "code",
      "metadata": {
        "id": "ubQjxnHQas-6"
      },
      "source": [
        "#Import data\n",
        "from sklearn import datasets\n",
        "digits = datasets.load_digits()"
      ],
      "execution_count": 2,
      "outputs": []
    },
    {
      "cell_type": "code",
      "metadata": {
        "id": "T3c6fKiwasyI",
        "outputId": "3672997c-f86d-49ad-e669-caedc25fd932",
        "colab": {
          "base_uri": "https://localhost:8080/",
          "height": 266
        }
      },
      "source": [
        "#Display data\n",
        "import random\n",
        "import matplotlib.pyplot as plt\n",
        "fig, axs = plt.subplots(4, 4)\n",
        "for i in range(4):\n",
        "  for j in range(4):\n",
        "    k = random.randint(0, digits.data.shape[0])\n",
        "    dg = digits.data[k].reshape(8, 8)\n",
        "    axs[i, j].imshow(dg, cmap='gray')\n",
        "\n",
        "plt.show()"
      ],
      "execution_count": null,
      "outputs": [
        {
          "output_type": "display_data",
          "data": {
            "image/png": "[encoded data removed]",
            "text/plain": [
              "<Figure size 432x288 with 16 Axes>"
            ]
          },
          "metadata": {
            "tags": [],
            "needs_background": "light"
          }
        }
      ]
    },
    {
      "cell_type": "code",
      "metadata": {
        "id": "cmqJ_KCyayVV"
      },
      "source": [
        "#Sparse Coding Stage\n",
        "def sparse_encode(A, Y, n_nonzero_coefs , fit_intercept, normalize):\n",
        "  omp = OrthogonalMatchingPursuit(n_nonzero_coefs=n_nonzero_coefs, fit_intercept= fit_intercept, normalize= normalize)\n",
        "  omp.fit(A, Y)\n",
        "  coef = omp.coef_\n",
        "  return coef"
      ],
      "execution_count": 3,
      "outputs": []
    },
    {
      "cell_type": "code",
      "metadata": {
        "id": "nyhSCVjAazgb"
      },
      "source": [
        "#Dictionary Update Stage\n",
        "tol = 1e-6 #tolerance\n",
        "max_iter = 10 #maximum number of iteration\n",
        "n_components = 500 #Number of atoms in the dictionary\n",
        "n_nonzero_coefs = 0"
      ],
      "execution_count": 4,
      "outputs": []
    },
    {
      "cell_type": "code",
      "metadata": {
        "id": "NKTs5vQ1a3et",
        "outputId": "473530c2-5b45-4e5d-f180-675635d78ded",
        "colab": {
          "base_uri": "https://localhost:8080/",
          "height": 132
        }
      },
      "source": [
        "def update_dict(A, coef):\n",
        "  #print(\"shape: \",A.shape[1])\n",
        "  for j in range(A.shape[1]):\n",
        "    #Define Sigma_j0 that use the atom a_j0\n",
        "    Sigma_j0 = np.where(coef[j, :]!=0)[0]\n",
        "    #print(\"Sigma_j0: \", Sigma_j0[0], \" length: \",Sigma_j0[0])\n",
        "    if len(Sigma_j0) == 0:\n",
        "      print(\"len of Sigma_j0 is 0\")\n",
        "      continue\n",
        "    #Compute the residual matrix E_j0\n",
        "    #E_j0 = normalize(digits.data.T, axis=0, norm='l2') - np.dot(A, coef.T)\n",
        "    #Restrict E_j0 by choosing only the columns corresponding to Sigma_j0 and obtain Er_j0\n",
        "    Er_j0 = coef[:, Sigma_j0]#E_j0[:, Sigma_j0]\n",
        "    Er_j0[j, :] = 0\n",
        "    Error = digits.data.T(:, Sigma_j0) - np.dot(A,Er_j0.T)\n",
        "    #Apply SVD Er_j0 = U*D*V.T. Update the dictionary atom a_j0 = u1 and the representations by xR_j0 = D[1, 1].v1\n",
        "    U, S, Vh = np.linalg.svd(Error)\n",
        "    #print(\"shape: \",U[:, 0, None].shape)\n",
        "    #print(\"shape: \",A[:, j, None].shape)\n",
        "    A[:, j, None] = U[:, 0, None]\n",
        "    #print(\"coef[j, Sigma_j0]: \",coef[j, Sigma_j0], \"sigma_j0: \", Sigma_j0)\n",
        "    print(\"Vh[0, :]: \",Vh[0, :].shape, \"S[0]: \", S[0], \" coef[j, Sigma_j0]: \", coef[j, Sigma_j0][0].shape)\n",
        "    coef[j, Sigma_j0] = S[0]*Vh[0, :]\n",
        "    #print(np.linalg.norm(E_j0))\n",
        "    if(np.linalg.norm(E_j0)<tol):\n",
        "      break\n",
        "  return A, coef, np.linalg.norm(E_j0)"
      ],
      "execution_count": null,
      "outputs": [
        {
          "output_type": "error",
          "ename": "SyntaxError",
          "evalue": "ignored",
          "traceback": [
            "\u001b[0;36m  File \u001b[0;32m\"<ipython-input-22-7fe5bb55ee6d>\"\u001b[0;36m, line \u001b[0;32m15\u001b[0m\n\u001b[0;31m    Error = digits.data.T(:, Sigma_j0) - np.dot(A,Er_j0.T)\u001b[0m\n\u001b[0m                          ^\u001b[0m\n\u001b[0;31mSyntaxError\u001b[0m\u001b[0;31m:\u001b[0m invalid syntax\n"
          ]
        }
      ]
    },
    {
      "cell_type": "code",
      "metadata": {
        "id": "jTYEEJPRa8WZ",
        "outputId": "739855ec-07d0-4ecc-f7b5-9bbf89c919f2",
        "colab": {
          "base_uri": "https://localhost:8080/",
          "height": 466
        }
      },
      "source": [
        "#Dictionary initialisation\n",
        "k = 0\n",
        "M = 500 #Choose the value of M, i.e. the number of features/\n",
        "A = np.array(digits.data[:M, :].T)\n",
        "error = []\n",
        "#print(A.shape)\n",
        "A = normalize(A, axis=0, norm='l2') #Normalise the columns of the matrix\n",
        "#print(A)\n",
        "#for i in range(1, 50):\n",
        "#  er = 0\n",
        "for k in range(2):\n",
        "  x = sparse_encode(A = A, Y = normalize(digits.data.T, axis=0, norm='l2'), n_nonzero_coefs = 4, fit_intercept= False, normalize= False)\n",
        "  A, x, err = update_dict(A, x)\n",
        "  #er = err + er\n",
        "#er = er/i\n",
        "error.append(err)"
      ],
      "execution_count": null,
      "outputs": [
        {
          "output_type": "stream",
          "text": [
            "/usr/local/lib/python3.6/dist-packages/sklearn/linear_model/_omp.py:387: RuntimeWarning:  Orthogonal matching pursuit ended prematurely due to linear\n",
            "dependence in the dictionary. The requested precision might not have been met.\n",
            "\n",
            "  copy_X=copy_X, return_path=return_path)\n"
          ],
          "name": "stderr"
        },
        {
          "output_type": "error",
          "ename": "ValueError",
          "evalue": "ignored",
          "traceback": [
            "\u001b[0;31m---------------------------------------------------------------------------\u001b[0m",
            "\u001b[0;31mValueError\u001b[0m                                Traceback (most recent call last)",
            "\u001b[0;32m<ipython-input-21-0ab9f39d53ea>\u001b[0m in \u001b[0;36m<module>\u001b[0;34m()\u001b[0m\n\u001b[1;32m     11\u001b[0m \u001b[0;32mfor\u001b[0m \u001b[0mk\u001b[0m \u001b[0;32min\u001b[0m \u001b[0mrange\u001b[0m\u001b[0;34m(\u001b[0m\u001b[0;36m2\u001b[0m\u001b[0;34m)\u001b[0m\u001b[0;34m:\u001b[0m\u001b[0;34m\u001b[0m\u001b[0;34m\u001b[0m\u001b[0m\n\u001b[1;32m     12\u001b[0m   \u001b[0mx\u001b[0m \u001b[0;34m=\u001b[0m \u001b[0msparse_encode\u001b[0m\u001b[0;34m(\u001b[0m\u001b[0mA\u001b[0m \u001b[0;34m=\u001b[0m \u001b[0mA\u001b[0m\u001b[0;34m,\u001b[0m \u001b[0mY\u001b[0m \u001b[0;34m=\u001b[0m \u001b[0mnormalize\u001b[0m\u001b[0;34m(\u001b[0m\u001b[0mdigits\u001b[0m\u001b[0;34m.\u001b[0m\u001b[0mdata\u001b[0m\u001b[0;34m.\u001b[0m\u001b[0mT\u001b[0m\u001b[0;34m,\u001b[0m \u001b[0maxis\u001b[0m\u001b[0;34m=\u001b[0m\u001b[0;36m0\u001b[0m\u001b[0;34m,\u001b[0m \u001b[0mnorm\u001b[0m\u001b[0;34m=\u001b[0m\u001b[0;34m'l2'\u001b[0m\u001b[0;34m)\u001b[0m\u001b[0;34m,\u001b[0m \u001b[0mn_nonzero_coefs\u001b[0m \u001b[0;34m=\u001b[0m \u001b[0;36m4\u001b[0m\u001b[0;34m,\u001b[0m \u001b[0mfit_intercept\u001b[0m\u001b[0;34m=\u001b[0m \u001b[0;32mFalse\u001b[0m\u001b[0;34m,\u001b[0m \u001b[0mnormalize\u001b[0m\u001b[0;34m=\u001b[0m \u001b[0;32mFalse\u001b[0m\u001b[0;34m)\u001b[0m\u001b[0;34m\u001b[0m\u001b[0;34m\u001b[0m\u001b[0m\n\u001b[0;32m---> 13\u001b[0;31m   \u001b[0mA\u001b[0m\u001b[0;34m,\u001b[0m \u001b[0mx\u001b[0m\u001b[0;34m,\u001b[0m \u001b[0merr\u001b[0m \u001b[0;34m=\u001b[0m \u001b[0mupdate_dict\u001b[0m\u001b[0;34m(\u001b[0m\u001b[0mA\u001b[0m\u001b[0;34m,\u001b[0m \u001b[0mx\u001b[0m\u001b[0;34m)\u001b[0m\u001b[0;34m\u001b[0m\u001b[0;34m\u001b[0m\u001b[0m\n\u001b[0m\u001b[1;32m     14\u001b[0m   \u001b[0;31m#er = err + er\u001b[0m\u001b[0;34m\u001b[0m\u001b[0;34m\u001b[0m\u001b[0;34m\u001b[0m\u001b[0m\n\u001b[1;32m     15\u001b[0m \u001b[0;31m#er = er/i\u001b[0m\u001b[0;34m\u001b[0m\u001b[0;34m\u001b[0m\u001b[0;34m\u001b[0m\u001b[0m\n",
            "\u001b[0;32m<ipython-input-20-a2eb844cb361>\u001b[0m in \u001b[0;36mupdate_dict\u001b[0;34m(A, coef)\u001b[0m\n\u001b[1;32m     13\u001b[0m     \u001b[0mEr_j0\u001b[0m \u001b[0;34m=\u001b[0m \u001b[0mcoef\u001b[0m\u001b[0;34m[\u001b[0m\u001b[0;34m:\u001b[0m\u001b[0;34m,\u001b[0m \u001b[0mSigma_j0\u001b[0m\u001b[0;34m]\u001b[0m\u001b[0;31m#E_j0[:, Sigma_j0]\u001b[0m\u001b[0;34m\u001b[0m\u001b[0;34m\u001b[0m\u001b[0m\n\u001b[1;32m     14\u001b[0m     \u001b[0mEr_j0\u001b[0m\u001b[0;34m[\u001b[0m\u001b[0mj\u001b[0m\u001b[0;34m,\u001b[0m \u001b[0;34m:\u001b[0m\u001b[0;34m]\u001b[0m \u001b[0;34m=\u001b[0m \u001b[0;36m0\u001b[0m\u001b[0;34m\u001b[0m\u001b[0;34m\u001b[0m\u001b[0m\n\u001b[0;32m---> 15\u001b[0;31m     \u001b[0mError\u001b[0m \u001b[0;34m=\u001b[0m \u001b[0mdigits\u001b[0m\u001b[0;34m.\u001b[0m\u001b[0mdata\u001b[0m\u001b[0;34m.\u001b[0m\u001b[0mT\u001b[0m \u001b[0;34m-\u001b[0m \u001b[0mnp\u001b[0m\u001b[0;34m.\u001b[0m\u001b[0mdot\u001b[0m\u001b[0;34m(\u001b[0m\u001b[0mA\u001b[0m\u001b[0;34m,\u001b[0m\u001b[0mEr_j0\u001b[0m\u001b[0;34m.\u001b[0m\u001b[0mT\u001b[0m\u001b[0;34m)\u001b[0m\u001b[0;34m\u001b[0m\u001b[0;34m\u001b[0m\u001b[0m\n\u001b[0m\u001b[1;32m     16\u001b[0m     \u001b[0;31m#Apply SVD Er_j0 = U*D*V.T. Update the dictionary atom a_j0 = u1 and the representations by xR_j0 = D[1, 1].v1\u001b[0m\u001b[0;34m\u001b[0m\u001b[0;34m\u001b[0m\u001b[0;34m\u001b[0m\u001b[0m\n\u001b[1;32m     17\u001b[0m     \u001b[0mU\u001b[0m\u001b[0;34m,\u001b[0m \u001b[0mS\u001b[0m\u001b[0;34m,\u001b[0m \u001b[0mVh\u001b[0m \u001b[0;34m=\u001b[0m \u001b[0mnp\u001b[0m\u001b[0;34m.\u001b[0m\u001b[0mlinalg\u001b[0m\u001b[0;34m.\u001b[0m\u001b[0msvd\u001b[0m\u001b[0;34m(\u001b[0m\u001b[0mError\u001b[0m\u001b[0;34m)\u001b[0m\u001b[0;34m\u001b[0m\u001b[0;34m\u001b[0m\u001b[0m\n",
            "\u001b[0;32m<__array_function__ internals>\u001b[0m in \u001b[0;36mdot\u001b[0;34m(*args, **kwargs)\u001b[0m\n",
            "\u001b[0;31mValueError\u001b[0m: shapes (64,500) and (1,1797) not aligned: 500 (dim 1) != 1 (dim 0)"
          ]
        }
      ]
    },
    {
      "cell_type": "code",
      "metadata": {
        "id": "VQktlBvgerBu"
      },
      "source": [
        ""
      ],
      "execution_count": null,
      "outputs": []
    }
  ]
}